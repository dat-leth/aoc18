{
 "cells": [
  {
   "cell_type": "markdown",
   "metadata": {},
   "source": [
    "# Advent of Code 2018"
   ]
  },
  {
   "cell_type": "markdown",
   "metadata": {},
   "source": [
    "## Imports and helper functions"
   ]
  },
  {
   "cell_type": "code",
   "execution_count": 1,
   "metadata": {},
   "outputs": [],
   "source": [
    "from itertools import cycle"
   ]
  },
  {
   "cell_type": "markdown",
   "metadata": {},
   "source": [
    "## Day 1"
   ]
  },
  {
   "cell_type": "code",
   "execution_count": 2,
   "metadata": {},
   "outputs": [
    {
     "data": {
      "text/plain": [
       "516"
      ]
     },
     "execution_count": 2,
     "metadata": {},
     "output_type": "execute_result"
    }
   ],
   "source": [
    "def d1_read_input(input_path):\n",
    "    with open(input_path, 'r') as f:\n",
    "        list = [int(line) for line in f]\n",
    "        return list\n",
    "\n",
    "\n",
    "def d1_1_resulting_frequency(change_sequence):\n",
    "    return sum(change_sequence)\n",
    "\n",
    "\n",
    "d1_1_resulting_frequency(d1_read_input('./input1.txt'))\n"
   ]
  },
  {
   "cell_type": "code",
   "execution_count": 3,
   "metadata": {},
   "outputs": [
    {
     "data": {
      "text/plain": [
       "71892"
      ]
     },
     "execution_count": 3,
     "metadata": {},
     "output_type": "execute_result"
    }
   ],
   "source": [
    "def d1_2_resulting_frequency(change_sequence):\n",
    "    res_freq_set = set()\n",
    "    cycle_seq = cycle(change_sequence)\n",
    "    result = 0\n",
    "    \n",
    "    for change in cycle_seq:\n",
    "        result = result + change\n",
    "        if result not in res_freq_set:\n",
    "            res_freq_set.add(result)\n",
    "        else:\n",
    "            return result\n",
    "\n",
    "\n",
    "d1_2_resulting_frequency(d1_read_input('./input1.txt'))\n"
   ]
  }
 ],
 "metadata": {
  "kernelspec": {
   "display_name": "Python 3",
   "language": "python",
   "name": "python3"
  },
  "language_info": {
   "codemirror_mode": {
    "name": "ipython",
    "version": 3
   },
   "file_extension": ".py",
   "mimetype": "text/x-python",
   "name": "python",
   "nbconvert_exporter": "python",
   "pygments_lexer": "ipython3",
   "version": "3.7.1"
  }
 },
 "nbformat": 4,
 "nbformat_minor": 1
}
